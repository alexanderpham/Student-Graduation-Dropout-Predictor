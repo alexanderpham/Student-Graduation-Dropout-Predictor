{
  "cells": [
    {
      "cell_type": "markdown",
      "source": [
        "Assignment 3: Classifcation of Text Data\n",
        "\n",
        "Team Name\n",
        "\n",
        "Alex Pham, Matt Manolov, Zakie Shah\n",
        "\n",
        "COMP 4630"
      ],
      "metadata": {
        "id": "lNrN0gnTxLG-"
      }
    },
    {
      "cell_type": "markdown",
      "metadata": {
        "id": "9PZhzTk6wgBy"
      },
      "source": [
        "# Starter Code\n",
        "Here's some BigQuery related stuff and a terrible network to get you started.\n",
        "\n",
        "## Load the BigQuery data\n",
        "I highly recommend using [Colab](https://colab.research.google.com/) for this assignment, as it involves some hefty computation. If you have a GPU that you've managed to convince Tensorflow to work with, you can also use the [BigQuery Python client library](https://cloud.google.com/bigquery/docs/reference/libraries#client-libraries-install-python) to load the data.\n",
        "\n",
        "The following cell assumes you are using Colab and will prompt you for your Google credentials. You will need to activate the BigQuery API for your account first.\n"
      ]
    },
    {
      "cell_type": "code",
      "source": [
        "# Assignment 3: Assignment 3: Classification of Text Data\n",
        "# Team Name\n",
        "# Matt Manolov, Alex Pham, Zakie Shah\n",
        "# Comp 4630 - 001"
      ],
      "metadata": {
        "id": "WvEyIB8UZ1sR"
      },
      "execution_count": null,
      "outputs": []
    },
    {
      "cell_type": "code",
      "execution_count": null,
      "metadata": {
        "colab": {
          "base_uri": "https://localhost:8080/"
        },
        "id": "dkMx6cE1wgB0",
        "outputId": "b32a7a41-c7d2-476b-da4c-1fb003e2a57c"
      },
      "outputs": [
        {
          "output_type": "stream",
          "name": "stdout",
          "text": [
            "Authenticated\n"
          ]
        }
      ],
      "source": [
        "from google.cloud import bigquery\n",
        "from google.colab import auth\n",
        "\n",
        "auth.authenticate_user()\n",
        "print('Authenticated')"
      ]
    },
    {
      "cell_type": "code",
      "source": [
        "# python\n",
        "# Import libraries\n",
        "import pandas as pd\n",
        "import numpy as np\n",
        "import tensorflow as tf\n",
        "from google.cloud import bigquery\n"
      ],
      "metadata": {
        "id": "FhdTfPrr1qdM"
      },
      "execution_count": null,
      "outputs": []
    },
    {
      "cell_type": "markdown",
      "metadata": {
        "id": "KpgkwDNZwgB1"
      },
      "source": [
        "To get started with the BigQuery API, do the following:\n",
        "1. Create a project in the [Google Cloud Console](https://console.cloud.google.com/). The free tier provides up to 1TB of querying per month, so you should be fine, but you can also claim the free credit provided for this course (see instructions on D2L under \"Course Info\").\n",
        "2. Enable the BigQuery API for your project.\n",
        "3. Change the `\"<your project id here>\"` placeholder in the next cell to the project ID from your Google Cloud Console (probably a slugified version of your project name).\n",
        "\n",
        "Here I'm loading 10k random rows from the [Stack Overflow dataset](https://console.cloud.google.com/marketplace/details/stack-exchange/stack-overflow), and limiting the selection to questions with a single tag taken from the top 10 most common tags.\n",
        "\n",
        "For your assignment you'll probably want to bump that number up to at least 100k (don't go too crazy though)!"
      ]
    },
    {
      "cell_type": "code",
      "execution_count": null,
      "metadata": {
        "id": "rM23KswqwgB1"
      },
      "outputs": [],
      "source": [
        "project_id = \"asg3-453717\""
      ]
    },
    {
      "cell_type": "markdown",
      "metadata": {
        "id": "lFNgj8VnwgB1"
      },
      "source": [
        "The following cell needs to be run without any Python in it, but it will produce a Pandas dataframe named `df`."
      ]
    },
    {
      "cell_type": "code",
      "execution_count": null,
      "metadata": {
        "id": "vJ0GlMVGwgB1",
        "outputId": "31508850-7907-4495-8620-ea3c94ce3b7b",
        "colab": {
          "base_uri": "https://localhost:8080/",
          "height": 81,
          "referenced_widgets": [
            "a289c409d32347169d811943a673d5a4",
            "f01828d706d54366b4d06fc24ffe9181",
            "d170f7dd54664fb89c2f581397e4c338",
            "20bb7a3717774a21a5fd2b31ea3a43c9",
            "90d6ac10e07041109290eb9f249d10d8",
            "b931ac44bbca40548f95f8ac1d54c17d",
            "9b9d193d5c9c48648275bd98dd579db3",
            "46cb35b7addb4a1bacb31f72aa64a9a3",
            "33e8f0d466c54e81b4e00ac86fb0b096",
            "83d331cfc5a24cbeb2d4d2b5ad58e4f9",
            "6fce9ca9c76547f58292cfbc2f6c6694",
            "930c4509e9744c86b723d1fd6dde39c2",
            "8614f9ba51ab4f8a987e49296aa5688a",
            "8683e83238ad472e8328c039f836591c",
            "f7e3794891ed406ab179f00613b6ea9c",
            "f1ca34d8cab6432cbbc1ec019b23c3a3",
            "9afdd99d263d4697856f34671dc257bf",
            "d4c20bfe37024b9488dc997fd6d305e6",
            "c0f8fb78ec044bca8d49c90a5b18fdf4",
            "7fe92cb37e014b419793e2931cbeada9",
            "d5908ba764c0412a9d4d9dee37e4b870",
            "917aae87f0b4406ba52b4dc4c14c6e7f"
          ]
        }
      },
      "outputs": [
        {
          "output_type": "display_data",
          "data": {
            "text/plain": [
              "Query is running:   0%|          |"
            ],
            "application/vnd.jupyter.widget-view+json": {
              "version_major": 2,
              "version_minor": 0,
              "model_id": "a289c409d32347169d811943a673d5a4"
            }
          },
          "metadata": {}
        },
        {
          "output_type": "display_data",
          "data": {
            "text/plain": [
              "Downloading:   0%|          |"
            ],
            "application/vnd.jupyter.widget-view+json": {
              "version_major": 2,
              "version_minor": 0,
              "model_id": "930c4509e9744c86b723d1fd6dde39c2"
            }
          },
          "metadata": {}
        }
      ],
      "source": [
        "%%bigquery df --project $project_id\n",
        "SELECT title, tags\n",
        "FROM `bigquery-public-data.stackoverflow.posts_questions` as Posts\n",
        "WHERE ARRAY_LENGTH(SPLIT(Posts.tags, '|')) = 1 AND tags in (\n",
        "  SELECT tags\n",
        "  FROM `bigquery-public-data.stackoverflow.posts_questions` as Posts\n",
        "  WHERE ARRAY_LENGTH(SPLIT(Posts.tags, '|')) = 1\n",
        "  GROUP BY tags\n",
        "  ORDER BY COUNT(*) DESC\n",
        "  LIMIT 10\n",
        ")\n",
        "ORDER BY RAND()\n",
        "LIMIT 200000 #changed to 200k"
      ]
    },
    {
      "cell_type": "code",
      "execution_count": null,
      "metadata": {
        "id": "l5T7mAwCwgB2",
        "outputId": "164b244d-3cf3-4f75-ad11-dfc389395072",
        "colab": {
          "base_uri": "https://localhost:8080/",
          "height": 619
        }
      },
      "outputs": [
        {
          "output_type": "execute_result",
          "data": {
            "text/plain": [
              "                                               title    tags\n",
              "0          While loop to write in several text files  python\n",
              "1                 Convert into database date in java    java\n",
              "2  Error in na.fail.default (list(Training = c(\"y...       r\n",
              "3  Didnot override hashCode() and equals() method...    java\n",
              "4             Having trouble using cURL's PUT in PHP     php"
            ],
            "text/html": [
              "\n",
              "  <div id=\"df-f12d13b2-e531-44c3-9d40-3978e0fcd6c3\" class=\"colab-df-container\">\n",
              "    <div>\n",
              "<style scoped>\n",
              "    .dataframe tbody tr th:only-of-type {\n",
              "        vertical-align: middle;\n",
              "    }\n",
              "\n",
              "    .dataframe tbody tr th {\n",
              "        vertical-align: top;\n",
              "    }\n",
              "\n",
              "    .dataframe thead th {\n",
              "        text-align: right;\n",
              "    }\n",
              "</style>\n",
              "<table border=\"1\" class=\"dataframe\">\n",
              "  <thead>\n",
              "    <tr style=\"text-align: right;\">\n",
              "      <th></th>\n",
              "      <th>title</th>\n",
              "      <th>tags</th>\n",
              "    </tr>\n",
              "  </thead>\n",
              "  <tbody>\n",
              "    <tr>\n",
              "      <th>0</th>\n",
              "      <td>While loop to write in several text files</td>\n",
              "      <td>python</td>\n",
              "    </tr>\n",
              "    <tr>\n",
              "      <th>1</th>\n",
              "      <td>Convert into database date in java</td>\n",
              "      <td>java</td>\n",
              "    </tr>\n",
              "    <tr>\n",
              "      <th>2</th>\n",
              "      <td>Error in na.fail.default (list(Training = c(\"y...</td>\n",
              "      <td>r</td>\n",
              "    </tr>\n",
              "    <tr>\n",
              "      <th>3</th>\n",
              "      <td>Didnot override hashCode() and equals() method...</td>\n",
              "      <td>java</td>\n",
              "    </tr>\n",
              "    <tr>\n",
              "      <th>4</th>\n",
              "      <td>Having trouble using cURL's PUT in PHP</td>\n",
              "      <td>php</td>\n",
              "    </tr>\n",
              "  </tbody>\n",
              "</table>\n",
              "</div>\n",
              "    <div class=\"colab-df-buttons\">\n",
              "\n",
              "  <div class=\"colab-df-container\">\n",
              "    <button class=\"colab-df-convert\" onclick=\"convertToInteractive('df-f12d13b2-e531-44c3-9d40-3978e0fcd6c3')\"\n",
              "            title=\"Convert this dataframe to an interactive table.\"\n",
              "            style=\"display:none;\">\n",
              "\n",
              "  <svg xmlns=\"http://www.w3.org/2000/svg\" height=\"24px\" viewBox=\"0 -960 960 960\">\n",
              "    <path d=\"M120-120v-720h720v720H120Zm60-500h600v-160H180v160Zm220 220h160v-160H400v160Zm0 220h160v-160H400v160ZM180-400h160v-160H180v160Zm440 0h160v-160H620v160ZM180-180h160v-160H180v160Zm440 0h160v-160H620v160Z\"/>\n",
              "  </svg>\n",
              "    </button>\n",
              "\n",
              "  <style>\n",
              "    .colab-df-container {\n",
              "      display:flex;\n",
              "      gap: 12px;\n",
              "    }\n",
              "\n",
              "    .colab-df-convert {\n",
              "      background-color: #E8F0FE;\n",
              "      border: none;\n",
              "      border-radius: 50%;\n",
              "      cursor: pointer;\n",
              "      display: none;\n",
              "      fill: #1967D2;\n",
              "      height: 32px;\n",
              "      padding: 0 0 0 0;\n",
              "      width: 32px;\n",
              "    }\n",
              "\n",
              "    .colab-df-convert:hover {\n",
              "      background-color: #E2EBFA;\n",
              "      box-shadow: 0px 1px 2px rgba(60, 64, 67, 0.3), 0px 1px 3px 1px rgba(60, 64, 67, 0.15);\n",
              "      fill: #174EA6;\n",
              "    }\n",
              "\n",
              "    .colab-df-buttons div {\n",
              "      margin-bottom: 4px;\n",
              "    }\n",
              "\n",
              "    [theme=dark] .colab-df-convert {\n",
              "      background-color: #3B4455;\n",
              "      fill: #D2E3FC;\n",
              "    }\n",
              "\n",
              "    [theme=dark] .colab-df-convert:hover {\n",
              "      background-color: #434B5C;\n",
              "      box-shadow: 0px 1px 3px 1px rgba(0, 0, 0, 0.15);\n",
              "      filter: drop-shadow(0px 1px 2px rgba(0, 0, 0, 0.3));\n",
              "      fill: #FFFFFF;\n",
              "    }\n",
              "  </style>\n",
              "\n",
              "    <script>\n",
              "      const buttonEl =\n",
              "        document.querySelector('#df-f12d13b2-e531-44c3-9d40-3978e0fcd6c3 button.colab-df-convert');\n",
              "      buttonEl.style.display =\n",
              "        google.colab.kernel.accessAllowed ? 'block' : 'none';\n",
              "\n",
              "      async function convertToInteractive(key) {\n",
              "        const element = document.querySelector('#df-f12d13b2-e531-44c3-9d40-3978e0fcd6c3');\n",
              "        const dataTable =\n",
              "          await google.colab.kernel.invokeFunction('convertToInteractive',\n",
              "                                                    [key], {});\n",
              "        if (!dataTable) return;\n",
              "\n",
              "        const docLinkHtml = 'Like what you see? Visit the ' +\n",
              "          '<a target=\"_blank\" href=https://colab.research.google.com/notebooks/data_table.ipynb>data table notebook</a>'\n",
              "          + ' to learn more about interactive tables.';\n",
              "        element.innerHTML = '';\n",
              "        dataTable['output_type'] = 'display_data';\n",
              "        await google.colab.output.renderOutput(dataTable, element);\n",
              "        const docLink = document.createElement('div');\n",
              "        docLink.innerHTML = docLinkHtml;\n",
              "        element.appendChild(docLink);\n",
              "      }\n",
              "    </script>\n",
              "  </div>\n",
              "\n",
              "\n",
              "<div id=\"df-d1b49b40-a34a-48a9-b54a-c551692f028e\">\n",
              "  <button class=\"colab-df-quickchart\" onclick=\"quickchart('df-d1b49b40-a34a-48a9-b54a-c551692f028e')\"\n",
              "            title=\"Suggest charts\"\n",
              "            style=\"display:none;\">\n",
              "\n",
              "<svg xmlns=\"http://www.w3.org/2000/svg\" height=\"24px\"viewBox=\"0 0 24 24\"\n",
              "     width=\"24px\">\n",
              "    <g>\n",
              "        <path d=\"M19 3H5c-1.1 0-2 .9-2 2v14c0 1.1.9 2 2 2h14c1.1 0 2-.9 2-2V5c0-1.1-.9-2-2-2zM9 17H7v-7h2v7zm4 0h-2V7h2v10zm4 0h-2v-4h2v4z\"/>\n",
              "    </g>\n",
              "</svg>\n",
              "  </button>\n",
              "\n",
              "<style>\n",
              "  .colab-df-quickchart {\n",
              "      --bg-color: #E8F0FE;\n",
              "      --fill-color: #1967D2;\n",
              "      --hover-bg-color: #E2EBFA;\n",
              "      --hover-fill-color: #174EA6;\n",
              "      --disabled-fill-color: #AAA;\n",
              "      --disabled-bg-color: #DDD;\n",
              "  }\n",
              "\n",
              "  [theme=dark] .colab-df-quickchart {\n",
              "      --bg-color: #3B4455;\n",
              "      --fill-color: #D2E3FC;\n",
              "      --hover-bg-color: #434B5C;\n",
              "      --hover-fill-color: #FFFFFF;\n",
              "      --disabled-bg-color: #3B4455;\n",
              "      --disabled-fill-color: #666;\n",
              "  }\n",
              "\n",
              "  .colab-df-quickchart {\n",
              "    background-color: var(--bg-color);\n",
              "    border: none;\n",
              "    border-radius: 50%;\n",
              "    cursor: pointer;\n",
              "    display: none;\n",
              "    fill: var(--fill-color);\n",
              "    height: 32px;\n",
              "    padding: 0;\n",
              "    width: 32px;\n",
              "  }\n",
              "\n",
              "  .colab-df-quickchart:hover {\n",
              "    background-color: var(--hover-bg-color);\n",
              "    box-shadow: 0 1px 2px rgba(60, 64, 67, 0.3), 0 1px 3px 1px rgba(60, 64, 67, 0.15);\n",
              "    fill: var(--button-hover-fill-color);\n",
              "  }\n",
              "\n",
              "  .colab-df-quickchart-complete:disabled,\n",
              "  .colab-df-quickchart-complete:disabled:hover {\n",
              "    background-color: var(--disabled-bg-color);\n",
              "    fill: var(--disabled-fill-color);\n",
              "    box-shadow: none;\n",
              "  }\n",
              "\n",
              "  .colab-df-spinner {\n",
              "    border: 2px solid var(--fill-color);\n",
              "    border-color: transparent;\n",
              "    border-bottom-color: var(--fill-color);\n",
              "    animation:\n",
              "      spin 1s steps(1) infinite;\n",
              "  }\n",
              "\n",
              "  @keyframes spin {\n",
              "    0% {\n",
              "      border-color: transparent;\n",
              "      border-bottom-color: var(--fill-color);\n",
              "      border-left-color: var(--fill-color);\n",
              "    }\n",
              "    20% {\n",
              "      border-color: transparent;\n",
              "      border-left-color: var(--fill-color);\n",
              "      border-top-color: var(--fill-color);\n",
              "    }\n",
              "    30% {\n",
              "      border-color: transparent;\n",
              "      border-left-color: var(--fill-color);\n",
              "      border-top-color: var(--fill-color);\n",
              "      border-right-color: var(--fill-color);\n",
              "    }\n",
              "    40% {\n",
              "      border-color: transparent;\n",
              "      border-right-color: var(--fill-color);\n",
              "      border-top-color: var(--fill-color);\n",
              "    }\n",
              "    60% {\n",
              "      border-color: transparent;\n",
              "      border-right-color: var(--fill-color);\n",
              "    }\n",
              "    80% {\n",
              "      border-color: transparent;\n",
              "      border-right-color: var(--fill-color);\n",
              "      border-bottom-color: var(--fill-color);\n",
              "    }\n",
              "    90% {\n",
              "      border-color: transparent;\n",
              "      border-bottom-color: var(--fill-color);\n",
              "    }\n",
              "  }\n",
              "</style>\n",
              "\n",
              "  <script>\n",
              "    async function quickchart(key) {\n",
              "      const quickchartButtonEl =\n",
              "        document.querySelector('#' + key + ' button');\n",
              "      quickchartButtonEl.disabled = true;  // To prevent multiple clicks.\n",
              "      quickchartButtonEl.classList.add('colab-df-spinner');\n",
              "      try {\n",
              "        const charts = await google.colab.kernel.invokeFunction(\n",
              "            'suggestCharts', [key], {});\n",
              "      } catch (error) {\n",
              "        console.error('Error during call to suggestCharts:', error);\n",
              "      }\n",
              "      quickchartButtonEl.classList.remove('colab-df-spinner');\n",
              "      quickchartButtonEl.classList.add('colab-df-quickchart-complete');\n",
              "    }\n",
              "    (() => {\n",
              "      let quickchartButtonEl =\n",
              "        document.querySelector('#df-d1b49b40-a34a-48a9-b54a-c551692f028e button');\n",
              "      quickchartButtonEl.style.display =\n",
              "        google.colab.kernel.accessAllowed ? 'block' : 'none';\n",
              "    })();\n",
              "  </script>\n",
              "</div>\n",
              "\n",
              "    </div>\n",
              "  </div>\n"
            ],
            "application/vnd.google.colaboratory.intrinsic+json": {
              "type": "dataframe",
              "variable_name": "df"
            }
          },
          "metadata": {},
          "execution_count": 5
        },
        {
          "output_type": "display_data",
          "data": {
            "text/plain": [
              "<Figure size 640x480 with 1 Axes>"
            ],
            "image/png": "[encoded data removed]"
          },
          "metadata": {}
        }
      ],
      "source": [
        "# Look at the distribution of tags\n",
        "df['tags'].hist()\n",
        "\n",
        "# Look at the first five rows of the dataframe\n",
        "df.head()"
      ]
    },
    {
      "cell_type": "markdown",
      "metadata": {
        "id": "LZoOPs7ywgB2"
      },
      "source": [
        "You might want to do some class balancing or some other preprocessing, but you'll definitely need to do the following:\n",
        "1. Split the data into training/validation/testing sets\n",
        "2. Encode the labels as integers or one-hot vectors (there's lots of ways - I chose to use Pandas' `get_dummies` function)\n",
        "3. Define a `TextVectorization` layer to normalize, split, and map strings to integers - don't forget to take care of the padding values, either by masking or using `RaggedTensor`s\n",
        "4. Define some kind of model, hopefully better than the one I use as an example"
      ]
    },
    {
      "cell_type": "code",
      "source": [
        "# Plot a bar chart showing the distribution of values in the \"tags\" column\n",
        "import matplotlib.pyplot as plt\n",
        "\n",
        "df[\"tags\"].value_counts().plot(kind=\"bar\")\n",
        "plt.title(\"Tag Distribution\")\n",
        "plt.show()"
      ],
      "metadata": {
        "colab": {
          "base_uri": "https://localhost:8080/",
          "height": 526
        },
        "id": "EK2NzH4B8ILd",
        "outputId": "2c301b63-a3d2-430e-b218-26c596f27cc5"
      },
      "execution_count": null,
      "outputs": [
        {
          "output_type": "display_data",
          "data": {
            "text/plain": [
              "<Figure size 640x480 with 1 Axes>"
            ],
            "image/png": "[encoded data removed]"
          },
          "metadata": {}
        }
      ]
    },
    {
      "cell_type": "code",
      "source": [
        "# Upsample each class in the \"tags\" column to match the size of the largest class\n",
        "\n",
        "from sklearn.utils import resample\n",
        "\n",
        "#Some upsampling\n",
        "max_count = df[\"tags\"].value_counts().max()\n",
        "\n",
        "df_balanced = pd.concat([\n",
        "    resample(df[df[\"tags\"] == tag],\n",
        "             replace=True,\n",
        "             n_samples=max_count,\n",
        "             random_state=42)\n",
        "    for tag in df[\"tags\"].unique()\n",
        "])\n",
        "\n",
        "# shuffling and resetting the index\n",
        "df_balanced = df_balanced.sample(frac=1, random_state=42).reset_index(drop=True)\n",
        "\n",
        "# checking that each class has the same count\n",
        "print(df_balanced[\"tags\"].value_counts())\n"
      ],
      "metadata": {
        "colab": {
          "base_uri": "https://localhost:8080/"
        },
        "id": "e_DQp62K8OTO",
        "outputId": "2564268c-b414-45ef-83c3-250948ca38ca"
      },
      "execution_count": null,
      "outputs": [
        {
          "output_type": "stream",
          "name": "stdout",
          "text": [
            "tags\n",
            "php           28966\n",
            "r             28966\n",
            "python        28966\n",
            "jquery        28966\n",
            "javascript    28966\n",
            "java          28966\n",
            "c#            28966\n",
            "android       28966\n",
            "c++           28966\n",
            "mysql         28966\n",
            "Name: count, dtype: int64\n"
          ]
        }
      ]
    },
    {
      "cell_type": "code",
      "source": [
        "# Visualize the distribution of tag classes after upsampling to ensure all classes are equally represented\n",
        "\n",
        "import pandas as pd\n",
        "import matplotlib.pyplot as plt\n",
        "\n",
        "tag_counts = df_balanced[\"tags\"].value_counts()\n",
        "\n",
        "plt.figure(figsize=(10, 6))\n",
        "tag_counts.plot(kind=\"bar\")\n",
        "plt.title(\"Normalized Tag Distribution After Upsampling\")\n",
        "plt.xlabel(\"Tag\")\n",
        "plt.ylabel(\"Count\")\n",
        "plt.xticks(rotation=45)\n",
        "plt.tight_layout()\n",
        "plt.grid(axis='y')\n",
        "plt.show()\n"
      ],
      "metadata": {
        "id": "VbY-uh6u5yyN",
        "colab": {
          "base_uri": "https://localhost:8080/",
          "height": 607
        },
        "outputId": "ecd3c01c-1983-4410-fe65-541a86948f28"
      },
      "execution_count": null,
      "outputs": [
        {
          "output_type": "display_data",
          "data": {
            "text/plain": [
              "<Figure size 1000x600 with 1 Axes>"
            ],
            "image/png": "[encoded data removed]"
          },
          "metadata": {}
        }
      ]
    },
    {
      "cell_type": "code",
      "source": [
        "# Convert categorical \"tags\" column into one-hot encoded labels and store the label names\n",
        "\n",
        "labels = pd.get_dummies(df_balanced[\"tags\"])\n",
        "label_names = labels.columns.tolist()\n"
      ],
      "metadata": {
        "id": "uC8eQpmzpECz"
      },
      "execution_count": null,
      "outputs": []
    },
    {
      "cell_type": "code",
      "source": [
        "# data cleaning\n",
        "# Clean the \"title\" column: lowercase, remove punctuation, numbers, and extra whitespace\n",
        "\n",
        "import string\n",
        "import re\n",
        "\n",
        "\n",
        "df_balanced[\"title\"] = (\n",
        "    df_balanced[\"title\"]\n",
        "    .str.lower()\n",
        "    .str.translate(str.maketrans('', '', string.punctuation))\n",
        "    .str.replace(r'\\d+', '', regex=True)  #For numbers\n",
        "    .str.strip() # This is for the whitespace\n",
        ")\n"
      ],
      "metadata": {
        "id": "9ySYca6nCOpP"
      },
      "execution_count": null,
      "outputs": []
    },
    {
      "cell_type": "code",
      "execution_count": null,
      "metadata": {
        "id": "kvx8rTh6wgB2",
        "colab": {
          "base_uri": "https://localhost:8080/"
        },
        "outputId": "cd9b28bb-5328-4e94-ded5-d5fdc7f25447"
      },
      "outputs": [
        {
          "output_type": "stream",
          "name": "stdout",
          "text": [
            "train_X: (202762,), train_y: (202762, 10)\n",
            "val_X: (43449,), val_y: (43449, 10)\n",
            "test_X: (43449,), test_y: (43449, 10)\n"
          ]
        }
      ],
      "source": [
        "# Split the balanced dataset into training (70%), validation (15%), and test (15%) sets,\n",
        "# and one-hot encode the labels for each split\n",
        "\n",
        "import pandas as pd\n",
        "\n",
        "# train/validation/test split (70/15/15)\n",
        "tv_thresh = int(0.7 * len(df_balanced))\n",
        "vt_thresh = int(0.85 * len(df_balanced))\n",
        "\n",
        "# spilt the data\n",
        "train_X = df_balanced[\"title\"][:tv_thresh].values\n",
        "val_X = df_balanced[\"title\"][tv_thresh:vt_thresh].values\n",
        "test_X = df_balanced[\"title\"][vt_thresh:].values\n",
        "\n",
        "# encode the labels\n",
        "labels = pd.get_dummies(df_balanced[\"tags\"])\n",
        "label_names = labels.columns\n",
        "\n",
        "train_y = labels[:tv_thresh].values\n",
        "val_y = labels[tv_thresh:vt_thresh].values\n",
        "test_y = labels[vt_thresh:].values\n",
        "\n",
        "# # checking the sizes before training\n",
        "# print(f\"train_X: {train_X.shape}, train_y: {train_y.shape}\")\n",
        "# print(f\"val_X: {val_X.shape}, val_y: {val_y.shape}\")\n",
        "# print(f\"test_X: {test_X.shape}, test_y: {test_y.shape}\")\n",
        "\n",
        "# # just checking to see if input sizes match\n",
        "# assert len(train_X) == len(train_y), \"Mismatch in training data!\"\n",
        "# assert len(val_X) == len(val_y), \"Mismatch in validation data!\"\n",
        "# assert len(test_X) == len(test_y), \"Mismatch in test data!\"\n"
      ]
    },
    {
      "cell_type": "code",
      "source": [
        "# Create and fit a TextVectorization layer to convert text titles into sequences of integers\n",
        "\n",
        "from tensorflow.keras.layers import TextVectorization\n",
        "\n",
        "vec_layer = TextVectorization(\n",
        "    max_tokens=10000,\n",
        "    output_mode='int',\n",
        "    output_sequence_length=100\n",
        ")\n",
        "\n",
        "# fit vectorizer on all titles\n",
        "vec_layer.adapt(df_balanced[\"title\"].values)\n"
      ],
      "metadata": {
        "id": "XljvvLbP-enk"
      },
      "execution_count": null,
      "outputs": []
    },
    {
      "cell_type": "code",
      "source": [
        "# Vectorize the title text data for training, validation, and testing using the fitted vectorizer\n",
        "\n",
        "train_X_vec = vec_layer(train_X)\n",
        "val_X_vec = vec_layer(val_X)\n",
        "test_X_vec = vec_layer(test_X)\n"
      ],
      "metadata": {
        "id": "k7XAJwRF-eg5"
      },
      "execution_count": null,
      "outputs": []
    },
    {
      "cell_type": "code",
      "source": [
        "# Building a simple neural network for multi-class text classification using an embedding layer and average pooling\n",
        "# Embedding layer for word vectorization,\n",
        "# GlobalAveragePooling1D for fixed-size representation\n",
        "# Dropout for regularization and to speed up the algorithm\n",
        "# Dense layers for learning non-linear patterns, and softmax for multi-class prediction.\n",
        "\n",
        "from tensorflow.keras.models import Sequential\n",
        "from tensorflow.keras.layers import Embedding, GlobalAveragePooling1D, Dense, Dropout\n",
        "\n",
        "num_classes = train_y.shape[1]  # still using one-hot encoded labels\n",
        "\n",
        "model = Sequential([\n",
        "    Embedding(input_dim=10000, output_dim=64, mask_zero=True),\n",
        "    GlobalAveragePooling1D(),\n",
        "    Dropout(0.3),\n",
        "    Dense(64, activation='relu'),\n",
        "    Dropout(0.3),\n",
        "    Dense(num_classes, activation='softmax')\n",
        "])\n",
        "\n"
      ],
      "metadata": {
        "id": "2xdyd4Jj-eYr"
      },
      "execution_count": null,
      "outputs": []
    },
    {
      "cell_type": "code",
      "source": [
        "# use this to save the keras model in google drive\n",
        "from google.colab import drive\n",
        "drive.mount('/content/drive')"
      ],
      "metadata": {
        "colab": {
          "base_uri": "https://localhost:8080/"
        },
        "id": "2hWRKbim_HRi",
        "outputId": "182997bc-7c75-4ee8-ed9a-55a3c20b3669"
      },
      "execution_count": null,
      "outputs": [
        {
          "output_type": "stream",
          "name": "stdout",
          "text": [
            "Mounted at /content/drive\n"
          ]
        }
      ]
    },
    {
      "cell_type": "code",
      "source": [
        "# Train the model with early stopping to prevent overfitting, then wrap it with the text vectorizer\n",
        "# to create an end-to-end model that can take raw text input and have it saved.\n",
        "\n",
        "from tensorflow.keras.callbacks import EarlyStopping\n",
        "\n",
        "# Stop training if validation loss doesn't improve for 3 consecutive epochs\n",
        "early_stop = EarlyStopping(monitor='val_loss', patience=3, restore_best_weights=True)\n",
        "\n",
        "model.compile(\n",
        "    loss='categorical_crossentropy', # suitable for multi-class classification with one-hot encoded label\n",
        "    optimizer='adam',                # adaptive optimizer that adjusts learning rate during training\n",
        "    metrics=['accuracy']             # tracks the percentage of correct predictions during training/validation\n",
        ")\n",
        "\n",
        "history = model.fit(\n",
        "    x=train_X_vec,\n",
        "    y=train_y,\n",
        "    validation_data=(val_X_vec, val_y),\n",
        "    epochs=20,\n",
        "    batch_size=32,\n",
        "    callbacks=[early_stop]\n",
        ")\n",
        "\n",
        "input_layer = tf.keras.Input(shape=(1,), dtype=tf.string)\n",
        "x = vec_layer(input_layer)\n",
        "x = model(x)\n",
        "full_model = tf.keras.Model(inputs=input_layer, outputs=x)\n",
        "\n",
        "full_model.save(\"/content/drive/MyDrive/final_model.keras\")"
      ],
      "metadata": {
        "colab": {
          "base_uri": "https://localhost:8080/"
        },
        "id": "bQHoE2El-5s_",
        "outputId": "1187f620-bbcd-4ef8-c136-a4b6e0e5f1d1"
      },
      "execution_count": null,
      "outputs": [
        {
          "output_type": "stream",
          "name": "stdout",
          "text": [
            "Epoch 1/20\n",
            "\u001b[1m6337/6337\u001b[0m \u001b[32m━━━━━━━━━━━━━━━━━━━━\u001b[0m\u001b[37m\u001b[0m \u001b[1m19s\u001b[0m 3ms/step - accuracy: 0.8308 - loss: 0.4917 - val_accuracy: 0.8125 - val_loss: 0.5991\n",
            "Epoch 2/20\n",
            "\u001b[1m6337/6337\u001b[0m \u001b[32m━━━━━━━━━━━━━━━━━━━━\u001b[0m\u001b[37m\u001b[0m \u001b[1m15s\u001b[0m 2ms/step - accuracy: 0.8308 - loss: 0.4888 - val_accuracy: 0.8136 - val_loss: 0.5996\n",
            "Epoch 3/20\n",
            "\u001b[1m6337/6337\u001b[0m \u001b[32m━━━━━━━━━━━━━━━━━━━━\u001b[0m\u001b[37m\u001b[0m \u001b[1m15s\u001b[0m 2ms/step - accuracy: 0.8355 - loss: 0.4819 - val_accuracy: 0.8139 - val_loss: 0.6002\n",
            "Epoch 4/20\n",
            "\u001b[1m6337/6337\u001b[0m \u001b[32m━━━━━━━━━━━━━━━━━━━━\u001b[0m\u001b[37m\u001b[0m \u001b[1m15s\u001b[0m 2ms/step - accuracy: 0.8330 - loss: 0.4825 - val_accuracy: 0.8163 - val_loss: 0.5984\n",
            "Epoch 5/20\n",
            "\u001b[1m6337/6337\u001b[0m \u001b[32m━━━━━━━━━━━━━━━━━━━━\u001b[0m\u001b[37m\u001b[0m \u001b[1m15s\u001b[0m 2ms/step - accuracy: 0.8366 - loss: 0.4775 - val_accuracy: 0.8162 - val_loss: 0.5977\n",
            "Epoch 6/20\n",
            "\u001b[1m6337/6337\u001b[0m \u001b[32m━━━━━━━━━━━━━━━━━━━━\u001b[0m\u001b[37m\u001b[0m \u001b[1m14s\u001b[0m 2ms/step - accuracy: 0.8371 - loss: 0.4773 - val_accuracy: 0.8171 - val_loss: 0.5962\n",
            "Epoch 7/20\n",
            "\u001b[1m6337/6337\u001b[0m \u001b[32m━━━━━━━━━━━━━━━━━━━━\u001b[0m\u001b[37m\u001b[0m \u001b[1m14s\u001b[0m 2ms/step - accuracy: 0.8383 - loss: 0.4735 - val_accuracy: 0.8183 - val_loss: 0.5962\n",
            "Epoch 8/20\n",
            "\u001b[1m6337/6337\u001b[0m \u001b[32m━━━━━━━━━━━━━━━━━━━━\u001b[0m\u001b[37m\u001b[0m \u001b[1m15s\u001b[0m 2ms/step - accuracy: 0.8393 - loss: 0.4657 - val_accuracy: 0.8183 - val_loss: 0.5944\n",
            "Epoch 9/20\n",
            "\u001b[1m6337/6337\u001b[0m \u001b[32m━━━━━━━━━━━━━━━━━━━━\u001b[0m\u001b[37m\u001b[0m \u001b[1m14s\u001b[0m 2ms/step - accuracy: 0.8398 - loss: 0.4670 - val_accuracy: 0.8191 - val_loss: 0.5992\n",
            "Epoch 10/20\n",
            "\u001b[1m6337/6337\u001b[0m \u001b[32m━━━━━━━━━━━━━━━━━━━━\u001b[0m\u001b[37m\u001b[0m \u001b[1m14s\u001b[0m 2ms/step - accuracy: 0.8398 - loss: 0.4677 - val_accuracy: 0.8182 - val_loss: 0.6000\n",
            "Epoch 11/20\n",
            "\u001b[1m6337/6337\u001b[0m \u001b[32m━━━━━━━━━━━━━━━━━━━━\u001b[0m\u001b[37m\u001b[0m \u001b[1m14s\u001b[0m 2ms/step - accuracy: 0.8410 - loss: 0.4624 - val_accuracy: 0.8215 - val_loss: 0.5983\n"
          ]
        }
      ]
    },
    {
      "cell_type": "code",
      "source": [
        "# Just getting some numbers on the model. Evaluating the model's performance on the test set by reporting accuracy,\n",
        "# loss, and its printed nicely by including precision, recall, and F1-score for each class\n",
        "\n",
        "test_loss, test_accuracy = model.evaluate(test_X_vec, test_y, verbose=1)\n",
        "print(f\"\\nTest Accuracy: {test_accuracy:.4f}\")\n",
        "print(f\"Test Loss: {test_loss:.4f}\")\n",
        "\n",
        "# getting predicted labels from the test data set\n",
        "import numpy as np\n",
        "pred_probs = model.predict(test_X_vec)\n",
        "pred_labels = np.argmax(pred_probs, axis=1)\n",
        "true_labels = np.argmax(test_y, axis=1)\n",
        "\n",
        "# print out the report\n",
        "from sklearn.metrics import classification_report\n",
        "print(\"\\nClassification Report:\")\n",
        "print(classification_report(true_labels, pred_labels, target_names=label_names))\n"
      ],
      "metadata": {
        "colab": {
          "base_uri": "https://localhost:8080/"
        },
        "id": "z4R7SJY2_U7k",
        "outputId": "dc1050ac-5fe3-4bc5-b803-696db35b7695"
      },
      "execution_count": null,
      "outputs": [
        {
          "output_type": "stream",
          "name": "stdout",
          "text": [
            "\u001b[1m1358/1358\u001b[0m \u001b[32m━━━━━━━━━━━━━━━━━━━━\u001b[0m\u001b[37m\u001b[0m \u001b[1m2s\u001b[0m 2ms/step - accuracy: 0.8235 - loss: 0.5868\n",
            "\n",
            "Test Accuracy: 0.8205\n",
            "Test Loss: 0.5897\n",
            "\u001b[1m1358/1358\u001b[0m \u001b[32m━━━━━━━━━━━━━━━━━━━━\u001b[0m\u001b[37m\u001b[0m \u001b[1m2s\u001b[0m 1ms/step\n",
            "\n",
            "Classification Report:\n",
            "              precision    recall  f1-score   support\n",
            "\n",
            "     android       0.91      0.90      0.91      4335\n",
            "          c#       0.69      0.68      0.69      4351\n",
            "         c++       0.71      0.81      0.76      4352\n",
            "        java       0.77      0.71      0.74      4259\n",
            "  javascript       0.78      0.76      0.77      4413\n",
            "      jquery       0.88      0.90      0.89      4286\n",
            "       mysql       0.91      0.96      0.93      4334\n",
            "         php       0.84      0.80      0.82      4320\n",
            "      python       0.82      0.77      0.79      4404\n",
            "           r       0.89      0.91      0.90      4395\n",
            "\n",
            "    accuracy                           0.82     43449\n",
            "   macro avg       0.82      0.82      0.82     43449\n",
            "weighted avg       0.82      0.82      0.82     43449\n",
            "\n"
          ]
        }
      ]
    },
    {
      "cell_type": "code",
      "source": [
        "# Performing some simple testing before we continue.\n",
        "\n",
        "custom_sentences = [\n",
        "    \"How to fix null pointer exception in android studio\",\n",
        "    \"Why is my JavaScript for loop skipping elements?\",\n",
        "    \"Importing pandas throws error in python script\",\n",
        "    \"Best way to connect C# application to a database\",\n",
        "    \"Segmentation fault when overloading operator in C++\"\n",
        "]\n",
        "\n",
        "\n",
        "custom_vec = vec_layer(np.array(custom_sentences))\n",
        "pred_probs = model.predict(custom_vec)\n",
        "pred_indices = np.argmax(pred_probs, axis=1)\n",
        "pred_tags = label_names[pred_indices]\n",
        "\n",
        "for i, sentence in enumerate(custom_sentences):\n",
        "    print(f\"\\nSentence: {sentence}\")\n",
        "    print(f\"Predicted Tag: {pred_tags[i]}\")\n",
        "\n"
      ],
      "metadata": {
        "colab": {
          "base_uri": "https://localhost:8080/"
        },
        "id": "H85-Z-FF_mtL",
        "outputId": "a71c6ac4-4dc4-44fe-d6cf-159ef5d77382"
      },
      "execution_count": null,
      "outputs": [
        {
          "output_type": "stream",
          "name": "stdout",
          "text": [
            "\u001b[1m1/1\u001b[0m \u001b[32m━━━━━━━━━━━━━━━━━━━━\u001b[0m\u001b[37m\u001b[0m \u001b[1m0s\u001b[0m 372ms/step\n",
            "\n",
            "Sentence: How to fix null pointer exception in android studio\n",
            "Predicted Tag: android\n",
            "\n",
            "Sentence: Why is my JavaScript for loop skipping elements?\n",
            "Predicted Tag: javascript\n",
            "\n",
            "Sentence: Importing pandas throws error in python script\n",
            "Predicted Tag: python\n",
            "\n",
            "Sentence: Best way to connect C# application to a database\n",
            "Predicted Tag: c#\n",
            "\n",
            "Sentence: Segmentation fault when overloading operator in C++\n",
            "Predicted Tag: c++\n"
          ]
        }
      ]
    }
  ],
  "metadata": {
    "kernelspec": {
      "display_name": "Python 3",
      "name": "python3"
    },
    "language_info": {
      "name": "python",
      "version": "3.11.11"
    },
    "colab": {
      "provenance": [],
      "gpuType": "A100"
    },
    "widgets": {
      "application/vnd.jupyter.widget-state+json": {
        "a289c409d32347169d811943a673d5a4": {
          "model_module": "@jupyter-widgets/controls",
          "model_name": "HBoxModel",
          "model_module_version": "1.5.0",
          "state": {
            "_dom_classes": [],
            "_model_module": "@jupyter-widgets/controls",
            "_model_module_version": "1.5.0",
            "_model_name": "HBoxModel",
            "_view_count": null,
            "_view_module": "@jupyter-widgets/controls",
            "_view_module_version": "1.5.0",
            "_view_name": "HBoxView",
            "box_style": "",
            "children": [
              "IPY_MODEL_f01828d706d54366b4d06fc24ffe9181",
              "IPY_MODEL_d170f7dd54664fb89c2f581397e4c338",
              "IPY_MODEL_20bb7a3717774a21a5fd2b31ea3a43c9"
            ],
            "layout": "IPY_MODEL_90d6ac10e07041109290eb9f249d10d8"
          }
        },
        "f01828d706d54366b4d06fc24ffe9181": {
          "model_module": "@jupyter-widgets/controls",
          "model_name": "HTMLModel",
          "model_module_version": "1.5.0",
          "state": {
            "_dom_classes": [],
            "_model_module": "@jupyter-widgets/controls",
            "_model_module_version": "1.5.0",
            "_model_name": "HTMLModel",
            "_view_count": null,
            "_view_module": "@jupyter-widgets/controls",
            "_view_module_version": "1.5.0",
            "_view_name": "HTMLView",
            "description": "",
            "description_tooltip": null,
            "layout": "IPY_MODEL_b931ac44bbca40548f95f8ac1d54c17d",
            "placeholder": "​",
            "style": "IPY_MODEL_9b9d193d5c9c48648275bd98dd579db3",
            "value": "Job ID cdae4a7f-be9d-4dc9-bf9f-ee36b2aa748e successfully executed: 100%"
          }
        },
        "d170f7dd54664fb89c2f581397e4c338": {
          "model_module": "@jupyter-widgets/controls",
          "model_name": "FloatProgressModel",
          "model_module_version": "1.5.0",
          "state": {
            "_dom_classes": [],
            "_model_module": "@jupyter-widgets/controls",
            "_model_module_version": "1.5.0",
            "_model_name": "FloatProgressModel",
            "_view_count": null,
            "_view_module": "@jupyter-widgets/controls",
            "_view_module_version": "1.5.0",
            "_view_name": "ProgressView",
            "bar_style": "success",
            "description": "",
            "description_tooltip": null,
            "layout": "IPY_MODEL_46cb35b7addb4a1bacb31f72aa64a9a3",
            "max": 1,
            "min": 0,
            "orientation": "horizontal",
            "style": "IPY_MODEL_33e8f0d466c54e81b4e00ac86fb0b096",
            "value": 1
          }
        },
        "20bb7a3717774a21a5fd2b31ea3a43c9": {
          "model_module": "@jupyter-widgets/controls",
          "model_name": "HTMLModel",
          "model_module_version": "1.5.0",
          "state": {
            "_dom_classes": [],
            "_model_module": "@jupyter-widgets/controls",
            "_model_module_version": "1.5.0",
            "_model_name": "HTMLModel",
            "_view_count": null,
            "_view_module": "@jupyter-widgets/controls",
            "_view_module_version": "1.5.0",
            "_view_name": "HTMLView",
            "description": "",
            "description_tooltip": null,
            "layout": "IPY_MODEL_83d331cfc5a24cbeb2d4d2b5ad58e4f9",
            "placeholder": "​",
            "style": "IPY_MODEL_6fce9ca9c76547f58292cfbc2f6c6694",
            "value": ""
          }
        },
        "90d6ac10e07041109290eb9f249d10d8": {
          "model_module": "@jupyter-widgets/base",
          "model_name": "LayoutModel",
          "model_module_version": "1.2.0",
          "state": {
            "_model_module": "@jupyter-widgets/base",
            "_model_module_version": "1.2.0",
            "_model_name": "LayoutModel",
            "_view_count": null,
            "_view_module": "@jupyter-widgets/base",
            "_view_module_version": "1.2.0",
            "_view_name": "LayoutView",
            "align_content": null,
            "align_items": null,
            "align_self": null,
            "border": null,
            "bottom": null,
            "display": null,
            "flex": null,
            "flex_flow": null,
            "grid_area": null,
            "grid_auto_columns": null,
            "grid_auto_flow": null,
            "grid_auto_rows": null,
            "grid_column": null,
            "grid_gap": null,
            "grid_row": null,
            "grid_template_areas": null,
            "grid_template_columns": null,
            "grid_template_rows": null,
            "height": null,
            "justify_content": null,
            "justify_items": null,
            "left": null,
            "margin": null,
            "max_height": null,
            "max_width": null,
            "min_height": null,
            "min_width": null,
            "object_fit": null,
            "object_position": null,
            "order": null,
            "overflow": null,
            "overflow_x": null,
            "overflow_y": null,
            "padding": null,
            "right": null,
            "top": null,
            "visibility": null,
            "width": null
          }
        },
        "b931ac44bbca40548f95f8ac1d54c17d": {
          "model_module": "@jupyter-widgets/base",
          "model_name": "LayoutModel",
          "model_module_version": "1.2.0",
          "state": {
            "_model_module": "@jupyter-widgets/base",
            "_model_module_version": "1.2.0",
            "_model_name": "LayoutModel",
            "_view_count": null,
            "_view_module": "@jupyter-widgets/base",
            "_view_module_version": "1.2.0",
            "_view_name": "LayoutView",
            "align_content": null,
            "align_items": null,
            "align_self": null,
            "border": null,
            "bottom": null,
            "display": null,
            "flex": null,
            "flex_flow": null,
            "grid_area": null,
            "grid_auto_columns": null,
            "grid_auto_flow": null,
            "grid_auto_rows": null,
            "grid_column": null,
            "grid_gap": null,
            "grid_row": null,
            "grid_template_areas": null,
            "grid_template_columns": null,
            "grid_template_rows": null,
            "height": null,
            "justify_content": null,
            "justify_items": null,
            "left": null,
            "margin": null,
            "max_height": null,
            "max_width": null,
            "min_height": null,
            "min_width": null,
            "object_fit": null,
            "object_position": null,
            "order": null,
            "overflow": null,
            "overflow_x": null,
            "overflow_y": null,
            "padding": null,
            "right": null,
            "top": null,
            "visibility": null,
            "width": null
          }
        },
        "9b9d193d5c9c48648275bd98dd579db3": {
          "model_module": "@jupyter-widgets/controls",
          "model_name": "DescriptionStyleModel",
          "model_module_version": "1.5.0",
          "state": {
            "_model_module": "@jupyter-widgets/controls",
            "_model_module_version": "1.5.0",
            "_model_name": "DescriptionStyleModel",
            "_view_count": null,
            "_view_module": "@jupyter-widgets/base",
            "_view_module_version": "1.2.0",
            "_view_name": "StyleView",
            "description_width": ""
          }
        },
        "46cb35b7addb4a1bacb31f72aa64a9a3": {
          "model_module": "@jupyter-widgets/base",
          "model_name": "LayoutModel",
          "model_module_version": "1.2.0",
          "state": {
            "_model_module": "@jupyter-widgets/base",
            "_model_module_version": "1.2.0",
            "_model_name": "LayoutModel",
            "_view_count": null,
            "_view_module": "@jupyter-widgets/base",
            "_view_module_version": "1.2.0",
            "_view_name": "LayoutView",
            "align_content": null,
            "align_items": null,
            "align_self": null,
            "border": null,
            "bottom": null,
            "display": null,
            "flex": null,
            "flex_flow": null,
            "grid_area": null,
            "grid_auto_columns": null,
            "grid_auto_flow": null,
            "grid_auto_rows": null,
            "grid_column": null,
            "grid_gap": null,
            "grid_row": null,
            "grid_template_areas": null,
            "grid_template_columns": null,
            "grid_template_rows": null,
            "height": null,
            "justify_content": null,
            "justify_items": null,
            "left": null,
            "margin": null,
            "max_height": null,
            "max_width": null,
            "min_height": null,
            "min_width": null,
            "object_fit": null,
            "object_position": null,
            "order": null,
            "overflow": null,
            "overflow_x": null,
            "overflow_y": null,
            "padding": null,
            "right": null,
            "top": null,
            "visibility": null,
            "width": null
          }
        },
        "33e8f0d466c54e81b4e00ac86fb0b096": {
          "model_module": "@jupyter-widgets/controls",
          "model_name": "ProgressStyleModel",
          "model_module_version": "1.5.0",
          "state": {
            "_model_module": "@jupyter-widgets/controls",
            "_model_module_version": "1.5.0",
            "_model_name": "ProgressStyleModel",
            "_view_count": null,
            "_view_module": "@jupyter-widgets/base",
            "_view_module_version": "1.2.0",
            "_view_name": "StyleView",
            "bar_color": null,
            "description_width": ""
          }
        },
        "83d331cfc5a24cbeb2d4d2b5ad58e4f9": {
          "model_module": "@jupyter-widgets/base",
          "model_name": "LayoutModel",
          "model_module_version": "1.2.0",
          "state": {
            "_model_module": "@jupyter-widgets/base",
            "_model_module_version": "1.2.0",
            "_model_name": "LayoutModel",
            "_view_count": null,
            "_view_module": "@jupyter-widgets/base",
            "_view_module_version": "1.2.0",
            "_view_name": "LayoutView",
            "align_content": null,
            "align_items": null,
            "align_self": null,
            "border": null,
            "bottom": null,
            "display": null,
            "flex": null,
            "flex_flow": null,
            "grid_area": null,
            "grid_auto_columns": null,
            "grid_auto_flow": null,
            "grid_auto_rows": null,
            "grid_column": null,
            "grid_gap": null,
            "grid_row": null,
            "grid_template_areas": null,
            "grid_template_columns": null,
            "grid_template_rows": null,
            "height": null,
            "justify_content": null,
            "justify_items": null,
            "left": null,
            "margin": null,
            "max_height": null,
            "max_width": null,
            "min_height": null,
            "min_width": null,
            "object_fit": null,
            "object_position": null,
            "order": null,
            "overflow": null,
            "overflow_x": null,
            "overflow_y": null,
            "padding": null,
            "right": null,
            "top": null,
            "visibility": null,
            "width": null
          }
        },
        "6fce9ca9c76547f58292cfbc2f6c6694": {
          "model_module": "@jupyter-widgets/controls",
          "model_name": "DescriptionStyleModel",
          "model_module_version": "1.5.0",
          "state": {
            "_model_module": "@jupyter-widgets/controls",
            "_model_module_version": "1.5.0",
            "_model_name": "DescriptionStyleModel",
            "_view_count": null,
            "_view_module": "@jupyter-widgets/base",
            "_view_module_version": "1.2.0",
            "_view_name": "StyleView",
            "description_width": ""
          }
        },
        "930c4509e9744c86b723d1fd6dde39c2": {
          "model_module": "@jupyter-widgets/controls",
          "model_name": "HBoxModel",
          "model_module_version": "1.5.0",
          "state": {
            "_dom_classes": [],
            "_model_module": "@jupyter-widgets/controls",
            "_model_module_version": "1.5.0",
            "_model_name": "HBoxModel",
            "_view_count": null,
            "_view_module": "@jupyter-widgets/controls",
            "_view_module_version": "1.5.0",
            "_view_name": "HBoxView",
            "box_style": "",
            "children": [
              "IPY_MODEL_8614f9ba51ab4f8a987e49296aa5688a",
              "IPY_MODEL_8683e83238ad472e8328c039f836591c",
              "IPY_MODEL_f7e3794891ed406ab179f00613b6ea9c"
            ],
            "layout": "IPY_MODEL_f1ca34d8cab6432cbbc1ec019b23c3a3"
          }
        },
        "8614f9ba51ab4f8a987e49296aa5688a": {
          "model_module": "@jupyter-widgets/controls",
          "model_name": "HTMLModel",
          "model_module_version": "1.5.0",
          "state": {
            "_dom_classes": [],
            "_model_module": "@jupyter-widgets/controls",
            "_model_module_version": "1.5.0",
            "_model_name": "HTMLModel",
            "_view_count": null,
            "_view_module": "@jupyter-widgets/controls",
            "_view_module_version": "1.5.0",
            "_view_name": "HTMLView",
            "description": "",
            "description_tooltip": null,
            "layout": "IPY_MODEL_9afdd99d263d4697856f34671dc257bf",
            "placeholder": "​",
            "style": "IPY_MODEL_d4c20bfe37024b9488dc997fd6d305e6",
            "value": "Downloading: 100%"
          }
        },
        "8683e83238ad472e8328c039f836591c": {
          "model_module": "@jupyter-widgets/controls",
          "model_name": "FloatProgressModel",
          "model_module_version": "1.5.0",
          "state": {
            "_dom_classes": [],
            "_model_module": "@jupyter-widgets/controls",
            "_model_module_version": "1.5.0",
            "_model_name": "FloatProgressModel",
            "_view_count": null,
            "_view_module": "@jupyter-widgets/controls",
            "_view_module_version": "1.5.0",
            "_view_name": "ProgressView",
            "bar_style": "success",
            "description": "",
            "description_tooltip": null,
            "layout": "IPY_MODEL_c0f8fb78ec044bca8d49c90a5b18fdf4",
            "max": 200000,
            "min": 0,
            "orientation": "horizontal",
            "style": "IPY_MODEL_7fe92cb37e014b419793e2931cbeada9",
            "value": 200000
          }
        },
        "f7e3794891ed406ab179f00613b6ea9c": {
          "model_module": "@jupyter-widgets/controls",
          "model_name": "HTMLModel",
          "model_module_version": "1.5.0",
          "state": {
            "_dom_classes": [],
            "_model_module": "@jupyter-widgets/controls",
            "_model_module_version": "1.5.0",
            "_model_name": "HTMLModel",
            "_view_count": null,
            "_view_module": "@jupyter-widgets/controls",
            "_view_module_version": "1.5.0",
            "_view_name": "HTMLView",
            "description": "",
            "description_tooltip": null,
            "layout": "IPY_MODEL_d5908ba764c0412a9d4d9dee37e4b870",
            "placeholder": "​",
            "style": "IPY_MODEL_917aae87f0b4406ba52b4dc4c14c6e7f",
            "value": ""
          }
        },
        "f1ca34d8cab6432cbbc1ec019b23c3a3": {
          "model_module": "@jupyter-widgets/base",
          "model_name": "LayoutModel",
          "model_module_version": "1.2.0",
          "state": {
            "_model_module": "@jupyter-widgets/base",
            "_model_module_version": "1.2.0",
            "_model_name": "LayoutModel",
            "_view_count": null,
            "_view_module": "@jupyter-widgets/base",
            "_view_module_version": "1.2.0",
            "_view_name": "LayoutView",
            "align_content": null,
            "align_items": null,
            "align_self": null,
            "border": null,
            "bottom": null,
            "display": null,
            "flex": null,
            "flex_flow": null,
            "grid_area": null,
            "grid_auto_columns": null,
            "grid_auto_flow": null,
            "grid_auto_rows": null,
            "grid_column": null,
            "grid_gap": null,
            "grid_row": null,
            "grid_template_areas": null,
            "grid_template_columns": null,
            "grid_template_rows": null,
            "height": null,
            "justify_content": null,
            "justify_items": null,
            "left": null,
            "margin": null,
            "max_height": null,
            "max_width": null,
            "min_height": null,
            "min_width": null,
            "object_fit": null,
            "object_position": null,
            "order": null,
            "overflow": null,
            "overflow_x": null,
            "overflow_y": null,
            "padding": null,
            "right": null,
            "top": null,
            "visibility": null,
            "width": null
          }
        },
        "9afdd99d263d4697856f34671dc257bf": {
          "model_module": "@jupyter-widgets/base",
          "model_name": "LayoutModel",
          "model_module_version": "1.2.0",
          "state": {
            "_model_module": "@jupyter-widgets/base",
            "_model_module_version": "1.2.0",
            "_model_name": "LayoutModel",
            "_view_count": null,
            "_view_module": "@jupyter-widgets/base",
            "_view_module_version": "1.2.0",
            "_view_name": "LayoutView",
            "align_content": null,
            "align_items": null,
            "align_self": null,
            "border": null,
            "bottom": null,
            "display": null,
            "flex": null,
            "flex_flow": null,
            "grid_area": null,
            "grid_auto_columns": null,
            "grid_auto_flow": null,
            "grid_auto_rows": null,
            "grid_column": null,
            "grid_gap": null,
            "grid_row": null,
            "grid_template_areas": null,
            "grid_template_columns": null,
            "grid_template_rows": null,
            "height": null,
            "justify_content": null,
            "justify_items": null,
            "left": null,
            "margin": null,
            "max_height": null,
            "max_width": null,
            "min_height": null,
            "min_width": null,
            "object_fit": null,
            "object_position": null,
            "order": null,
            "overflow": null,
            "overflow_x": null,
            "overflow_y": null,
            "padding": null,
            "right": null,
            "top": null,
            "visibility": null,
            "width": null
          }
        },
        "d4c20bfe37024b9488dc997fd6d305e6": {
          "model_module": "@jupyter-widgets/controls",
          "model_name": "DescriptionStyleModel",
          "model_module_version": "1.5.0",
          "state": {
            "_model_module": "@jupyter-widgets/controls",
            "_model_module_version": "1.5.0",
            "_model_name": "DescriptionStyleModel",
            "_view_count": null,
            "_view_module": "@jupyter-widgets/base",
            "_view_module_version": "1.2.0",
            "_view_name": "StyleView",
            "description_width": ""
          }
        },
        "c0f8fb78ec044bca8d49c90a5b18fdf4": {
          "model_module": "@jupyter-widgets/base",
          "model_name": "LayoutModel",
          "model_module_version": "1.2.0",
          "state": {
            "_model_module": "@jupyter-widgets/base",
            "_model_module_version": "1.2.0",
            "_model_name": "LayoutModel",
            "_view_count": null,
            "_view_module": "@jupyter-widgets/base",
            "_view_module_version": "1.2.0",
            "_view_name": "LayoutView",
            "align_content": null,
            "align_items": null,
            "align_self": null,
            "border": null,
            "bottom": null,
            "display": null,
            "flex": null,
            "flex_flow": null,
            "grid_area": null,
            "grid_auto_columns": null,
            "grid_auto_flow": null,
            "grid_auto_rows": null,
            "grid_column": null,
            "grid_gap": null,
            "grid_row": null,
            "grid_template_areas": null,
            "grid_template_columns": null,
            "grid_template_rows": null,
            "height": null,
            "justify_content": null,
            "justify_items": null,
            "left": null,
            "margin": null,
            "max_height": null,
            "max_width": null,
            "min_height": null,
            "min_width": null,
            "object_fit": null,
            "object_position": null,
            "order": null,
            "overflow": null,
            "overflow_x": null,
            "overflow_y": null,
            "padding": null,
            "right": null,
            "top": null,
            "visibility": null,
            "width": null
          }
        },
        "7fe92cb37e014b419793e2931cbeada9": {
          "model_module": "@jupyter-widgets/controls",
          "model_name": "ProgressStyleModel",
          "model_module_version": "1.5.0",
          "state": {
            "_model_module": "@jupyter-widgets/controls",
            "_model_module_version": "1.5.0",
            "_model_name": "ProgressStyleModel",
            "_view_count": null,
            "_view_module": "@jupyter-widgets/base",
            "_view_module_version": "1.2.0",
            "_view_name": "StyleView",
            "bar_color": null,
            "description_width": ""
          }
        },
        "d5908ba764c0412a9d4d9dee37e4b870": {
          "model_module": "@jupyter-widgets/base",
          "model_name": "LayoutModel",
          "model_module_version": "1.2.0",
          "state": {
            "_model_module": "@jupyter-widgets/base",
            "_model_module_version": "1.2.0",
            "_model_name": "LayoutModel",
            "_view_count": null,
            "_view_module": "@jupyter-widgets/base",
            "_view_module_version": "1.2.0",
            "_view_name": "LayoutView",
            "align_content": null,
            "align_items": null,
            "align_self": null,
            "border": null,
            "bottom": null,
            "display": null,
            "flex": null,
            "flex_flow": null,
            "grid_area": null,
            "grid_auto_columns": null,
            "grid_auto_flow": null,
            "grid_auto_rows": null,
            "grid_column": null,
            "grid_gap": null,
            "grid_row": null,
            "grid_template_areas": null,
            "grid_template_columns": null,
            "grid_template_rows": null,
            "height": null,
            "justify_content": null,
            "justify_items": null,
            "left": null,
            "margin": null,
            "max_height": null,
            "max_width": null,
            "min_height": null,
            "min_width": null,
            "object_fit": null,
            "object_position": null,
            "order": null,
            "overflow": null,
            "overflow_x": null,
            "overflow_y": null,
            "padding": null,
            "right": null,
            "top": null,
            "visibility": null,
            "width": null
          }
        },
        "917aae87f0b4406ba52b4dc4c14c6e7f": {
          "model_module": "@jupyter-widgets/controls",
          "model_name": "DescriptionStyleModel",
          "model_module_version": "1.5.0",
          "state": {
            "_model_module": "@jupyter-widgets/controls",
            "_model_module_version": "1.5.0",
            "_model_name": "DescriptionStyleModel",
            "_view_count": null,
            "_view_module": "@jupyter-widgets/base",
            "_view_module_version": "1.2.0",
            "_view_name": "StyleView",
            "description_width": ""
          }
        }
      }
    },
    "accelerator": "GPU"
  },
  "nbformat": 4,
  "nbformat_minor": 0
}